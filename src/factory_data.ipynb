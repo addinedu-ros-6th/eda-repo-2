{
 "cells": [
  {
   "cell_type": "code",
   "execution_count": 1,
   "metadata": {},
   "outputs": [],
   "source": [
    "import pandas as pd"
   ]
  },
  {
   "cell_type": "code",
   "execution_count": 11,
   "metadata": {},
   "outputs": [],
   "source": [
    "factory_data=pd.read_csv(\"../data/factory_data/광역시·도별_공장규모현황_20240702110253_분석(전반기_대비_증감).csv\",encoding='UTF-8')"
   ]
  },
  {
   "cell_type": "code",
   "execution_count": 34,
   "metadata": {},
   "outputs": [],
   "source": [
    "factory_df=pd.DataFrame(factory_data)"
   ]
  },
  {
   "cell_type": "code",
   "execution_count": 35,
   "metadata": {},
   "outputs": [],
   "source": [
    "factory_df.rename(columns= { \n",
    "                        factory_df.columns[0] : \"city\",\n",
    "                        factory_df.columns[1] : \"type\",\n",
    "                        factory_df.columns[2] : \"date\",\n",
    "                        factory_df.columns[3] : \"open\"\n",
    "\n",
    "\n",
    "                        }, inplace=True)"
   ]
  },
  {
   "cell_type": "code",
   "execution_count": 38,
   "metadata": {},
   "outputs": [],
   "source": [
    "factory_df.insert(2,'year',factory_df['date'].str[:4])"
   ]
  },
  {
   "cell_type": "code",
   "execution_count": 40,
   "metadata": {},
   "outputs": [],
   "source": [
    "factory_df.insert(3,'month',factory_df['date'].str[5:])"
   ]
  },
  {
   "cell_type": "code",
   "execution_count": 45,
   "metadata": {},
   "outputs": [],
   "source": [
    "factory_df['month']=factory_df['month'].str.replace('1/2','01')\n",
    "factory_df['month']=factory_df['month'].str.replace('2/2','07')"
   ]
  },
  {
   "cell_type": "code",
   "execution_count": 47,
   "metadata": {},
   "outputs": [],
   "source": [
    "factory_df=factory_df.fillna(0)"
   ]
  },
  {
   "cell_type": "code",
   "execution_count": 48,
   "metadata": {},
   "outputs": [
    {
     "data": {
      "text/html": [
       "<div>\n",
       "<style scoped>\n",
       "    .dataframe tbody tr th:only-of-type {\n",
       "        vertical-align: middle;\n",
       "    }\n",
       "\n",
       "    .dataframe tbody tr th {\n",
       "        vertical-align: top;\n",
       "    }\n",
       "\n",
       "    .dataframe thead th {\n",
       "        text-align: right;\n",
       "    }\n",
       "</style>\n",
       "<table border=\"1\" class=\"dataframe\">\n",
       "  <thead>\n",
       "    <tr style=\"text-align: right;\">\n",
       "      <th></th>\n",
       "      <th>city</th>\n",
       "      <th>type</th>\n",
       "      <th>year</th>\n",
       "      <th>month</th>\n",
       "      <th>date</th>\n",
       "      <th>open</th>\n",
       "    </tr>\n",
       "  </thead>\n",
       "  <tbody>\n",
       "    <tr>\n",
       "      <th>0</th>\n",
       "      <td>계</td>\n",
       "      <td>대기업</td>\n",
       "      <td>2006</td>\n",
       "      <td>01</td>\n",
       "      <td>2006.1/2</td>\n",
       "      <td>0.0</td>\n",
       "    </tr>\n",
       "    <tr>\n",
       "      <th>1</th>\n",
       "      <td>계</td>\n",
       "      <td>대기업</td>\n",
       "      <td>2006</td>\n",
       "      <td>07</td>\n",
       "      <td>2006.2/2</td>\n",
       "      <td>24.0</td>\n",
       "    </tr>\n",
       "    <tr>\n",
       "      <th>2</th>\n",
       "      <td>계</td>\n",
       "      <td>대기업</td>\n",
       "      <td>2007</td>\n",
       "      <td>01</td>\n",
       "      <td>2007.1/2</td>\n",
       "      <td>-37.0</td>\n",
       "    </tr>\n",
       "    <tr>\n",
       "      <th>3</th>\n",
       "      <td>계</td>\n",
       "      <td>대기업</td>\n",
       "      <td>2007</td>\n",
       "      <td>07</td>\n",
       "      <td>2007.2/2</td>\n",
       "      <td>23.0</td>\n",
       "    </tr>\n",
       "    <tr>\n",
       "      <th>4</th>\n",
       "      <td>계</td>\n",
       "      <td>대기업</td>\n",
       "      <td>2008</td>\n",
       "      <td>07</td>\n",
       "      <td>2008.2/2</td>\n",
       "      <td>0.0</td>\n",
       "    </tr>\n",
       "  </tbody>\n",
       "</table>\n",
       "</div>"
      ],
      "text/plain": [
       "  city type  year month      date  open\n",
       "0    계  대기업  2006    01  2006.1/2   0.0\n",
       "1    계  대기업  2006    07  2006.2/2  24.0\n",
       "2    계  대기업  2007    01  2007.1/2 -37.0\n",
       "3    계  대기업  2007    07  2007.2/2  23.0\n",
       "4    계  대기업  2008    07  2008.2/2   0.0"
      ]
     },
     "execution_count": 48,
     "metadata": {},
     "output_type": "execute_result"
    }
   ],
   "source": [
    "factory_df.head()"
   ]
  },
  {
   "cell_type": "code",
   "execution_count": 49,
   "metadata": {},
   "outputs": [],
   "source": [
    "factory_df.drop(columns=factory_df.columns[4], axis=1, inplace=True)"
   ]
  },
  {
   "cell_type": "code",
   "execution_count": 55,
   "metadata": {},
   "outputs": [],
   "source": [
    "factory_df =factory_df.astype(dtype={factory_df.columns[4]:'int'},\n",
    "                              errors='raise',\n",
    "                              copy=True)"
   ]
  },
  {
   "cell_type": "code",
   "execution_count": 56,
   "metadata": {},
   "outputs": [
    {
     "name": "stdout",
     "output_type": "stream",
     "text": [
      "<class 'pandas.core.frame.DataFrame'>\n",
      "RangeIndex: 1149 entries, 0 to 1148\n",
      "Data columns (total 5 columns):\n",
      " #   Column  Non-Null Count  Dtype \n",
      "---  ------  --------------  ----- \n",
      " 0   city    1149 non-null   object\n",
      " 1   type    1149 non-null   object\n",
      " 2   year    1149 non-null   object\n",
      " 3   month   1149 non-null   object\n",
      " 4   open    1149 non-null   int64 \n",
      "dtypes: int64(1), object(4)\n",
      "memory usage: 45.0+ KB\n"
     ]
    }
   ],
   "source": [
    "factory_df.info()"
   ]
  },
  {
   "cell_type": "markdown",
   "metadata": {},
   "source": [
    "factory_df생성완료"
   ]
  },
  {
   "cell_type": "code",
   "execution_count": 2,
   "metadata": {},
   "outputs": [],
   "source": [
    "import mysql.connector"
   ]
  },
  {
   "cell_type": "code",
   "execution_count": 60,
   "metadata": {},
   "outputs": [],
   "source": [
    "remote.close()\n",
    "import mysql.connector\n",
    "remote = mysql.connector.connect(\n",
    "    host = \"database-1.*******************8.amazonaws.com\", #insert sql path\n",
    "    port = 3306,\n",
    "    user = \"eda\",\n",
    "    password = \"eda\",\n",
    "    database= 'eda'\n",
    ")\n",
    "cur = remote.cursor(buffered=True)"
   ]
  },
  {
   "cell_type": "code",
   "execution_count": 52,
   "metadata": {},
   "outputs": [],
   "source": [
    "sql=\"\"\"create table factory(\n",
    "\n",
    "            city varchar(32),\n",
    "            type varchar(8),\n",
    "            year char(4), \n",
    "            month char(2),\n",
    "            open int\n",
    "\n",
    "            );\"\"\"\n",
    "cur.execute(sql)\n",
    "remote.commit()"
   ]
  },
  {
   "cell_type": "code",
   "execution_count": 62,
   "metadata": {},
   "outputs": [],
   "source": [
    "sql=\"\"\"insert into factory Values (%s,%s,%s,%s,%s)\n",
    "\"\"\"\n",
    "for i , row in factory_df.iterrows():\n",
    "    cur.execute(sql,tuple(row))\n",
    "    # print(tuple(row))\n",
    "    remote.commit()"
   ]
  },
  {
   "cell_type": "code",
   "execution_count": 3,
   "metadata": {},
   "outputs": [
    {
     "ename": "NameError",
     "evalue": "name 'remote' is not defined",
     "output_type": "error",
     "traceback": [
      "\u001b[0;31m---------------------------------------------------------------------------\u001b[0m",
      "\u001b[0;31mNameError\u001b[0m                                 Traceback (most recent call last)",
      "Cell \u001b[0;32mIn[3], line 1\u001b[0m\n\u001b[0;32m----> 1\u001b[0m \u001b[43mremote\u001b[49m\u001b[38;5;241m.\u001b[39mclose()\n",
      "\u001b[0;31mNameError\u001b[0m: name 'remote' is not defined"
     ]
    }
   ],
   "source": [
    "remote.close()"
   ]
  },
  {
   "cell_type": "markdown",
   "metadata": {},
   "source": [
    "db업로드 끝"
   ]
  },
  {
   "cell_type": "code",
   "execution_count": 64,
   "metadata": {},
   "outputs": [
    {
     "data": {
      "text/plain": [
       "18"
      ]
     },
     "execution_count": 64,
     "metadata": {},
     "output_type": "execute_result"
    }
   ],
   "source": [
    "len(factory_df['city'].unique())"
   ]
  },
  {
   "cell_type": "code",
   "execution_count": null,
   "metadata": {},
   "outputs": [],
   "source": []
  }
 ],
 "metadata": {
  "kernelspec": {
   "display_name": "eda_venv",
   "language": "python",
   "name": "python3"
  },
  "language_info": {
   "codemirror_mode": {
    "name": "ipython",
    "version": 3
   },
   "file_extension": ".py",
   "mimetype": "text/x-python",
   "name": "python",
   "nbconvert_exporter": "python",
   "pygments_lexer": "ipython3",
   "version": "3.10.12"
  }
 },
 "nbformat": 4,
 "nbformat_minor": 2
}
