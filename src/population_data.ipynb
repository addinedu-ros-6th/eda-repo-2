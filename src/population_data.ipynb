{
 "cells": [
  {
   "cell_type": "code",
   "execution_count": 1,
   "metadata": {},
   "outputs": [],
   "source": [
    "from selenium import webdriver\n",
    "from selenium.webdriver.chrome.service import Service\n",
    "import time\n",
    "from selenium.webdriver.support import expected_conditions as EC\n",
    "from selenium.webdriver.common.action_chains import ActionChains\n",
    "from selenium.webdriver.support.wait import WebDriverWait\n",
    "from selenium.webdriver.common.by import By\n",
    "from selenium.webdriver.common.keys import Keys"
   ]
  },
  {
   "cell_type": "code",
   "execution_count": 8,
   "metadata": {},
   "outputs": [],
   "source": [
    "driver = webdriver.Chrome(service=Service(\"/home/zeki/dev_ws/EDA/driver/chromedriver-linux64/chromedriver\"))#insert chromedriver file path\n",
    "driver.get(\"https://jumin.mois.go.kr/ageStatMonth.do\")\n",
    "driver.set_window_position(2000, 0)\n",
    "driver.maximize_window()\n",
    "original_window=driver.current_window_handle"
   ]
  },
  {
   "cell_type": "code",
   "execution_count": 40,
   "metadata": {},
   "outputs": [],
   "source": [
    "def start_year(year):\n",
    "    \n",
    "    start_year_panel=driver.find_element(By.XPATH,\"\"\"//*[@id=\"searchYearStart\"]\"\"\")\n",
    "    start_year_panel.send_keys(str(year))"
   ]
  },
  {
   "cell_type": "code",
   "execution_count": 41,
   "metadata": {},
   "outputs": [],
   "source": [
    "def start_month(month):\n",
    "    driver.find_element(By.XPATH,\"\"\"//*[@id=\"searchMonthStart\"]/option[{}]\"\"\".format(13-month)).click()"
   ]
  },
  {
   "cell_type": "code",
   "execution_count": 45,
   "metadata": {},
   "outputs": [],
   "source": [
    "def end_year(year):\n",
    "    end_year_panel=driver.find_element(By.XPATH,\"\"\"//*[@id=\"searchYearEnd\"]\"\"\")\n",
    "    end_year_panel.send_keys(str(year))\n",
    "def end_month(month):\n",
    "    driver.find_element(By.XPATH,\"\"\"//*[@id=\"searchMonthEnd\"]/option[{}]\"\"\".format(13-month)).click()"
   ]
  },
  {
   "cell_type": "code",
   "execution_count": 52,
   "metadata": {},
   "outputs": [],
   "source": [
    "search_btn=driver.find_element(By.XPATH,\"\"\"//*[@id=\"content_main\"]/div[2]/div[2]/div/div[1]/form/fieldset/div[2]/input[1]\"\"\")"
   ]
  },
  {
   "cell_type": "code",
   "execution_count": 53,
   "metadata": {},
   "outputs": [],
   "source": [
    "csv_download=driver.find_element(By.XPATH,\"\"\"//*[@id=\"csvDown\"]\"\"\")"
   ]
  },
  {
   "cell_type": "code",
   "execution_count": 72,
   "metadata": {},
   "outputs": [],
   "source": [
    "driver.find_element(By.XPATH,\"\"\"//*[@id=\"gender\"]\"\"\").click()"
   ]
  },
  {
   "cell_type": "code",
   "execution_count": 73,
   "metadata": {},
   "outputs": [],
   "source": [
    "for year in range(2008,2025):\n",
    "    start_year(year)\n",
    "    end_year(year)\n",
    "    \n",
    "    for month in range(1,13):\n",
    "        start_month(month)\n",
    "        end_month(month)\n",
    "        search_btn=driver.find_element(By.XPATH,\"\"\"//*[@id=\"content_main\"]/div[2]/div[2]/div/div[1]/form/fieldset/div[2]/input[1]\"\"\")\n",
    "        driver.implicitly_wait(10)\n",
    "        EC.element_to_be_clickable(search_btn.click())\n",
    "        driver.implicitly_wait(10)\n",
    "        csv_download=driver.find_element(By.XPATH,\"\"\"//*[@id=\"csvDown\"]\"\"\")\n",
    "        csv_download.click()\n",
    "        try:\n",
    "            result = driver.switch_to.alert\n",
    "            result.accept()\n",
    "        except:\n",
    "            pass"
   ]
  },
  {
   "cell_type": "code",
   "execution_count": 135,
   "metadata": {},
   "outputs": [],
   "source": [
    "driver.quit()"
   ]
  },
  {
   "cell_type": "code",
   "execution_count": 74,
   "metadata": {},
   "outputs": [],
   "source": [
    "import pandas as pd"
   ]
  },
  {
   "cell_type": "code",
   "execution_count": 297,
   "metadata": {},
   "outputs": [
    {
     "name": "stderr",
     "output_type": "stream",
     "text": [
      "/tmp/ipykernel_8357/123484654.py:4: FutureWarning: 'M' is deprecated and will be removed in a future version, please use 'ME' instead.\n",
      "  date_range = pd.date_range(start=start_date, end=end_date, freq='M')\n"
     ]
    }
   ],
   "source": [
    "start_date = '012008'\n",
    "end_date = '072024'\n",
    "\n",
    "date_range = pd.date_range(start=start_date, end=end_date, freq='M')\n",
    "date_range_str = date_range.strftime('%Y%m')\n",
    "\n",
    "df_list=[]\n",
    "for tmp_date in date_range_str:\n",
    "    monthly_data=pd.read_csv(\"../data/population_monthly_data/{}_{}_연령별인구현황_월간.csv\".format(tmp_date,tmp_date),encoding='EUC-KR')\n",
    "    df=pd.DataFrame(monthly_data)\n",
    "\n",
    "    df.drop(columns=df.columns[2], axis=1, inplace=True)\n",
    "    df.rename(columns= { df.columns[0] : \"city\",df.columns[1] : \"all_popul\",\n",
    "                        df.columns[2] : \"age_0_9\",\n",
    "                        df.columns[3] : \"age_10_19\",\n",
    "                        df.columns[4] : \"age_20_29\",\n",
    "                        df.columns[5] : \"age_30_39\",\n",
    "                        df.columns[6] : \"age_40_49\",\n",
    "                        df.columns[7] : \"age_50_59\",\n",
    "                        df.columns[8] : \"age_60_69\",\n",
    "                        df.columns[9] : \"age_70_79\",\n",
    "                        df.columns[10] : \"age_80_89\",\n",
    "                        df.columns[11] : \"age_90_99\",\n",
    "                        df.columns[12] : \"age_100+\"\n",
    "\n",
    "\n",
    "                        }, inplace=True)\n",
    "    data_year=tmp_date[:4]\n",
    "    data_month=tmp_date[4:]\n",
    "                        \n",
    "    df.insert(1,'month',data_month)\n",
    "    df.insert(1,'year',data_year)\n",
    "\n",
    "    df['city']=df['city'].str.replace(r'\\(.*\\)','',regex=True)\n",
    "\n",
    "\n",
    "    df_list.append(df)\n",
    "    \n",
    "all_df=pd.concat(df_list)\n",
    "\n",
    "for column in range(3,len(all_df.columns)):\n",
    "    all_df[all_df.columns[column]]=all_df[all_df.columns[column]].str.replace(',','')\n",
    "\n",
    "    all_df =all_df.astype(dtype={all_df.columns[column]:'int'},\n",
    "                              errors='raise',\n",
    "                              copy=True)\n",
    "all_df[all_df.columns[0]]=all_df[all_df.columns[0]].str.replace(' ','')\n",
    "all_df[all_df.columns[0]]=all_df[all_df.columns[0]].str.replace('강원특별자치도','강원도')\n",
    "all_df[all_df.columns[0]]=all_df[all_df.columns[0]].str.replace('전북특별자치도','전라북도')\n"
   ]
  },
  {
   "cell_type": "code",
   "execution_count": 298,
   "metadata": {},
   "outputs": [
    {
     "name": "stderr",
     "output_type": "stream",
     "text": [
      "/tmp/ipykernel_8357/1277428550.py:1: FutureWarning: Series.__getitem__ treating keys as positions is deprecated. In a future version, integer keys will always be treated as labels (consistent with DataFrame behavior). To access a value by position, use `ser.iloc[pos]`\n",
      "  all_df.iloc[0][2]\n"
     ]
    },
    {
     "data": {
      "text/plain": [
       "'01'"
      ]
     },
     "execution_count": 298,
     "metadata": {},
     "output_type": "execute_result"
    }
   ],
   "source": [
    "all_df.iloc[0][2]"
   ]
  },
  {
   "cell_type": "code",
   "execution_count": 299,
   "metadata": {},
   "outputs": [
    {
     "name": "stdout",
     "output_type": "stream",
     "text": [
      "<class 'pandas.core.frame.DataFrame'>\n",
      "Index: 3510 entries, 0 to 17\n",
      "Data columns (total 15 columns):\n",
      " #   Column     Non-Null Count  Dtype \n",
      "---  ------     --------------  ----- \n",
      " 0   city       3510 non-null   object\n",
      " 1   year       3510 non-null   object\n",
      " 2   month      3510 non-null   object\n",
      " 3   all_popul  3510 non-null   int64 \n",
      " 4   age_0_9    3510 non-null   int64 \n",
      " 5   age_10_19  3510 non-null   int64 \n",
      " 6   age_20_29  3510 non-null   int64 \n",
      " 7   age_30_39  3510 non-null   int64 \n",
      " 8   age_40_49  3510 non-null   int64 \n",
      " 9   age_50_59  3510 non-null   int64 \n",
      " 10  age_60_69  3510 non-null   int64 \n",
      " 11  age_70_79  3510 non-null   int64 \n",
      " 12  age_80_89  3510 non-null   int64 \n",
      " 13  age_90_99  3510 non-null   int64 \n",
      " 14  age_100+   3510 non-null   int64 \n",
      "dtypes: int64(12), object(3)\n",
      "memory usage: 438.8+ KB\n"
     ]
    }
   ],
   "source": [
    "all_df.info()"
   ]
  },
  {
   "cell_type": "code",
   "execution_count": 300,
   "metadata": {},
   "outputs": [],
   "source": [
    "all_df.reset_index(drop=True,inplace=True)\n"
   ]
  },
  {
   "cell_type": "markdown",
   "metadata": {},
   "source": [
    "<<<데이터프레임 생성완료/db업로드"
   ]
  },
  {
   "cell_type": "code",
   "execution_count": 301,
   "metadata": {},
   "outputs": [],
   "source": [
    "import mysql.connector\n",
    "remote = mysql.connector.connect(\n",
    "    host = \"database-1.************.amazonaws.com\", #insert sql path\n",
    "    port = 3306,\n",
    "    user = \"eda\",\n",
    "    password = \"*******\",\n",
    "    database= 'eda'\n",
    ")\n",
    "cur = remote.cursor(buffered=True)\n"
   ]
  },
  {
   "cell_type": "code",
   "execution_count": 285,
   "metadata": {},
   "outputs": [],
   "source": [
    "remote.close()"
   ]
  },
  {
   "cell_type": "code",
   "execution_count": 302,
   "metadata": {},
   "outputs": [],
   "source": [
    "sql=\"\"\"create table population(\n",
    "\n",
    "            city varchar(32),\n",
    "            year char(4), \n",
    "            month char(2),\n",
    "            pop_sum int,\n",
    "            pop_0_9 int,\n",
    "            pop_10_19 int,\n",
    "            pop_20_29 int,\n",
    "            pop_30_39 int,\n",
    "            pop_40_49 int,\n",
    "            pop_50_59 int,\n",
    "            pop_60_69 int,\n",
    "            pop_70_79 int,\n",
    "            pop_80_89 int,\n",
    "            pop_90_99 int,\n",
    "            pop_100_ int\n",
    "\n",
    "            );\"\"\"\n",
    "cur.execute(sql)\n",
    "remote.commit()"
   ]
  },
  {
   "cell_type": "code",
   "execution_count": 303,
   "metadata": {},
   "outputs": [],
   "source": [
    "sql=\"\"\"insert into population Values (%s,%s,%s,%s,%s,%s,%s,%s,%s,%s,%s,%s,%s,%s,%s)\n",
    "\"\"\"\n",
    "for i , row in all_df.iterrows():\n",
    "    cur.execute(sql,tuple(row))\n",
    "    # print(tuple(row))\n",
    "    remote.commit()"
   ]
  },
  {
   "cell_type": "code",
   "execution_count": 304,
   "metadata": {},
   "outputs": [],
   "source": [
    "remote.close()"
   ]
  },
  {
   "cell_type": "markdown",
   "metadata": {},
   "source": [
    "///끝"
   ]
  },
  {
   "cell_type": "code",
   "execution_count": null,
   "metadata": {},
   "outputs": [],
   "source": []
  }
 ],
 "metadata": {
  "kernelspec": {
   "display_name": "eda_venv",
   "language": "python",
   "name": "python3"
  },
  "language_info": {
   "codemirror_mode": {
    "name": "ipython",
    "version": 3
   },
   "file_extension": ".py",
   "mimetype": "text/x-python",
   "name": "python",
   "nbconvert_exporter": "python",
   "pygments_lexer": "ipython3",
   "version": "3.10.12"
  }
 },
 "nbformat": 4,
 "nbformat_minor": 2
}
