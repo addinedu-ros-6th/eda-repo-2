{
 "cells": [
  {
   "cell_type": "code",
   "execution_count": 10,
   "metadata": {},
   "outputs": [],
   "source": [
    "# remote.close()\n",
    "import mysql.connector\n",
    "remote = mysql.connector.connect(\n",
    "    host = \"database-1.*************.amazonaws.com\", #insert sql path\n",
    "    port = 3306,\n",
    "    user = \"eda\",\n",
    "    password = \"**********\",\n",
    "    database= 'eda'\n",
    ")\n",
    "cur = remote.cursor(buffered=True)"
   ]
  },
  {
   "cell_type": "code",
   "execution_count": 9,
   "metadata": {},
   "outputs": [],
   "source": [
    "sql = \"\"\" create table pop_reason\n",
    "    as (select p.city, p.year, p.pop_sum,\n",
    "    edu.0_19,edu.20_100, edu.예산,\n",
    "    gdp.gdp,\n",
    "    fp.pop_foreign,\n",
    "    h.price, h.rent, h.count,\n",
    "    w.요양기관수\n",
    "        from population p, foreign_pop fp, education_money edu, gdp gdp, house h, welfare w\n",
    "        where ( p.city=fp.city and p.city=edu.city and p.city=gdp.지역 and p.city=h.city and p.city=w.city) \n",
    "                and (p.year=fp.year and p.year=edu.year and p.year=gdp.년도 and p.year=h.year and p.year=w.year)\n",
    "                and p.city in ('서울특별시','경기도') and p.month='12' \n",
    "                and (p.year between '2013'and '2022')\n",
    "        )\n",
    "        ; \n",
    "    \"\"\"\n",
    "\n",
    "cur.execute(sql)\n",
    "# result = cur.fetchall()\n",
    "# for line in result:\n",
    "#     print(line)\n",
    "\n",
    "remote.commit()"
   ]
  },
  {
   "cell_type": "code",
   "execution_count": 6,
   "metadata": {},
   "outputs": [],
   "source": [
    "remote.close()"
   ]
  },
  {
   "cell_type": "code",
   "execution_count": 12,
   "metadata": {},
   "outputs": [
    {
     "name": "stdout",
     "output_type": "stream",
     "text": [
      "('city', 'varchar(32)', 'YES', '', None, '')\n",
      "('year', 'char(4)', 'YES', '', None, '')\n",
      "('pop_sum', 'int', 'YES', '', None, '')\n",
      "('0_19', 'int', 'YES', '', None, '')\n",
      "('20_100', 'int', 'YES', '', None, '')\n",
      "('예산', 'float', 'YES', '', None, '')\n",
      "('gdp', 'int', 'YES', '', None, '')\n",
      "('pop_foreign', 'int', 'YES', '', None, '')\n",
      "('price', 'int', 'YES', '', None, '')\n",
      "('rent', 'int', 'YES', '', None, '')\n",
      "('count', 'int', 'YES', '', None, '')\n",
      "('요양기관수', 'float', 'YES', '', None, '')\n"
     ]
    }
   ],
   "source": [
    "column="
   ]
  },
  {
   "cell_type": "code",
   "execution_count": 16,
   "metadata": {},
   "outputs": [],
   "source": [
    "sql = \"\"\" create table seoul_pop_rate\n",
    "as (SELECT\n",
    "    city,\n",
    "  year,\n",
    "  \n",
    "  (pop_sum - LAG(pop_sum, 1) OVER (ORDER BY year)) / LAG(pop_sum, 1) OVER (ORDER BY year) AS pop_sum_rate,\n",
    "  (0_19 - LAG(0_19, 1) OVER (ORDER BY year)) / LAG(0_19, 1) OVER (ORDER BY year) AS 0_19_rate,\n",
    "  (20_100 - LAG(20_100, 1) OVER (ORDER BY year)) / LAG(20_100, 1) OVER (ORDER BY year) AS 20_100_rate,\n",
    "  (예산 - LAG(예산, 1) OVER (ORDER BY year)) / LAG(예산, 1) OVER (ORDER BY year) AS 예산_rate,\n",
    "  (gdp - LAG(gdp, 1) OVER (ORDER BY year)) / LAG(gdp, 1) OVER (ORDER BY year) AS gdp_rate,\n",
    "  (pop_foreign - LAG(pop_foreign, 1) OVER (ORDER BY year)) / LAG(pop_foreign, 1) OVER (ORDER BY year) AS pop_foreign_rate,\n",
    "  (price - LAG(price, 1) OVER (ORDER BY year)) / LAG(price, 1) OVER (ORDER BY year) AS price_rate,\n",
    "  (rent - LAG(rent, 1) OVER (ORDER BY year)) / LAG(rent, 1) OVER (ORDER BY year) AS rent_rate,\n",
    "  (count - LAG(count, 1) OVER (ORDER BY year)) / LAG(count, 1) OVER (ORDER BY year) AS count_rate,\n",
    "  (요양기관수 - LAG(요양기관수, 1) OVER (ORDER BY year)) / LAG(요양기관수, 1) OVER (ORDER BY year) AS 요양기관수_rate\n",
    "\n",
    "  \n",
    "FROM\n",
    "  pop_reason\n",
    "  where city='서울특별시'\n",
    "    );    \n",
    "        \n",
    "    \"\"\"\n",
    "\n",
    "cur.execute(sql)\n",
    "# result = cur.fetchall()\n",
    "# for line in result:\n",
    "#     print(line)\n",
    "\n",
    "remote.commit()"
   ]
  },
  {
   "cell_type": "code",
   "execution_count": 18,
   "metadata": {},
   "outputs": [],
   "source": [
    "sql = \"\"\" create table gyeonggi_pop_rate\n",
    "as (SELECT\n",
    "    city,\n",
    "  year,\n",
    "  \n",
    "  (pop_sum - LAG(pop_sum, 1) OVER (ORDER BY year)) / LAG(pop_sum, 1) OVER (ORDER BY year) AS pop_sum_rate,\n",
    "  (0_19 - LAG(0_19, 1) OVER (ORDER BY year)) / LAG(0_19, 1) OVER (ORDER BY year) AS 0_19_rate,\n",
    "  (20_100 - LAG(20_100, 1) OVER (ORDER BY year)) / LAG(20_100, 1) OVER (ORDER BY year) AS 20_100_rate,\n",
    "  (예산 - LAG(예산, 1) OVER (ORDER BY year)) / LAG(예산, 1) OVER (ORDER BY year) AS 예산_rate,\n",
    "  (gdp - LAG(gdp, 1) OVER (ORDER BY year)) / LAG(gdp, 1) OVER (ORDER BY year) AS gdp_rate,\n",
    "  (pop_foreign - LAG(pop_foreign, 1) OVER (ORDER BY year)) / LAG(pop_foreign, 1) OVER (ORDER BY year) AS pop_foreign_rate,\n",
    "  (price - LAG(price, 1) OVER (ORDER BY year)) / LAG(price, 1) OVER (ORDER BY year) AS price_rate,\n",
    "  (rent - LAG(rent, 1) OVER (ORDER BY year)) / LAG(rent, 1) OVER (ORDER BY year) AS rent_rate,\n",
    "  (count - LAG(count, 1) OVER (ORDER BY year)) / LAG(count, 1) OVER (ORDER BY year) AS count_rate,\n",
    "  (요양기관수 - LAG(요양기관수, 1) OVER (ORDER BY year)) / LAG(요양기관수, 1) OVER (ORDER BY year) AS 요양기관수_rate\n",
    "\n",
    "  \n",
    "FROM\n",
    "  pop_reason\n",
    "  where city='경기도' \n",
    "    );    \n",
    "        \n",
    "    \"\"\"\n",
    "\n",
    "cur.execute(sql)\n",
    "# result = cur.fetchall()\n",
    "# for line in result:\n",
    "#     print(line)\n",
    "\n",
    "remote.commit()"
   ]
  },
  {
   "cell_type": "code",
   "execution_count": null,
   "metadata": {},
   "outputs": [],
   "source": [
    "remote.close()"
   ]
  }
 ],
 "metadata": {
  "kernelspec": {
   "display_name": "eda_venv",
   "language": "python",
   "name": "python3"
  },
  "language_info": {
   "codemirror_mode": {
    "name": "ipython",
    "version": 3
   },
   "file_extension": ".py",
   "mimetype": "text/x-python",
   "name": "python",
   "nbconvert_exporter": "python",
   "pygments_lexer": "ipython3",
   "version": "3.10.12"
  }
 },
 "nbformat": 4,
 "nbformat_minor": 2
}
