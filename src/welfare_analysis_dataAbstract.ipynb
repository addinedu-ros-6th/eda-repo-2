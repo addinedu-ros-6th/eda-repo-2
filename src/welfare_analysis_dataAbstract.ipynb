{
 "cells": [
  {
   "cell_type": "code",
   "execution_count": null,
   "metadata": {},
   "outputs": [],
   "source": [
    "#%%\n",
    "import folium.features\n",
    "from selenium import webdriver\n",
    "from selenium.webdriver.chrome.service import Service\n",
    "from selenium.webdriver.chrome.options import Options\n",
    "from selenium.webdriver.common.by import By\n",
    "from bs4 import BeautifulSoup\n",
    "import urllib\n",
    "from urllib.request import urlopen\n",
    "from urllib.request import Request\n",
    "import pandas as pd\n",
    "import time\n",
    "import mysql.connector\n",
    "import numpy as np\n",
    "from tqdm.notebook import tqdm\n",
    "\n",
    "import matplotlib.pyplot as plt\n",
    "import seaborn as sns\n",
    "import koreanize_matplotlib\n",
    "\n",
    "from selenium.webdriver.common.keys import Keys\n",
    "from selenium.webdriver.support.wait import WebDriverWait\n",
    "from selenium.webdriver.support import expected_conditions as EC\n",
    "from selenium.webdriver.common.action_chains import ActionChains\n",
    "\n",
    "import folium\n",
    "import folium.map\n",
    "from folium import plugins\n",
    "from folium.features import DivIcon\n",
    "import json\n"
   ]
  },
  {
   "cell_type": "code",
   "execution_count": null,
   "metadata": {},
   "outputs": [],
   "source": [
    "# %%지역별 독거노인 비율\n",
    "older_people = pd.read_excel(\"../Data/독거노인가구비율.xlsx\",thousands=',')\n",
    "\n",
    "older_people.set_index('행정구역별', inplace=True)\n",
    "\n",
    "older_people_sudogwun = older_people.loc[[\"서울특별시\", \"경기도\",\"인천광역시\"],'2021':'2022']\n",
    "\n",
    "older_people_sudogwun\n"
   ]
  },
  {
   "cell_type": "code",
   "execution_count": null,
   "metadata": {},
   "outputs": [],
   "source": [
    "# %%\n",
    "plt.figure(figsize=(12,8))\n",
    "sns.barplot(x=\"행정구역별\", y= \"2022\", data=older_people_sudogwun, palette=\"Set3\").set_title(\"행정구역별 독거노인 가구비율\")\n",
    "plt.xticks(rotation=90)\n",
    "plt.xlabel(\"행정구역\")\n",
    "plt.ylabel(\"2022년 기준\")\n",
    "plt.grid()\n",
    "plt.show()\n"
   ]
  },
  {
   "cell_type": "code",
   "execution_count": null,
   "metadata": {},
   "outputs": [],
   "source": [
    "# %% 노인여가 복지시설 수\n",
    "leisure_facilities = pd.read_excel(\"../Data/노인여가복지시설수.xlsx\",thousands=',')\n",
    "leisure_facilities.set_index('행정구역별', inplace=True)\n",
    "leisure_facilities_sudogwun = leisure_facilities.loc[[\"서울특별시\", \"경기도\",\"인천광역시\"]]\n",
    "\n",
    "#요양기관 수\n",
    "nursing_institution= pd.read_excel(\"../Data/요양기관수_시도.xlsx\",thousands=',')\n",
    "nursing_institution.set_index('행정구역별', inplace=True)\n",
    "\n",
    "nursing_institution_result = pd.DataFrame()\n",
    "for i in range(2013,2023):\n",
    "    nursing_institution_result[i] = nursing_institution[str(i)+\".1/4\"] + nursing_institution[str(i)+\".2/4\"]+ nursing_institution[str(i)+\".3/4\"]+ nursing_institution[str(i)+\".4/4\"]\n",
    "\n",
    "nursing_institution_result_sudogwun = nursing_institution_result.loc[[\"서울특별시\", \"경기도\",\"인천광역시\"]]\n",
    "plt.figure(figsize=(12,8))\n",
    "sns.barplot(x=\"행정구역별\", y= 2022, data=nursing_institution_result_sudogwun, palette=\"Set3\")\n",
    "plt.show()\n"
   ]
  },
  {
   "cell_type": "code",
   "execution_count": null,
   "metadata": {},
   "outputs": [],
   "source": [
    "#%%\n",
    "fig, ax=plt.subplots(1,2,figsize=(12,8))\n",
    "sns.barplot(x=\"행정구역별\", y= \"2022\", data=leisure_facilities_sudogwun, palette=\"Set3\",ax=ax[0])\n",
    "sns.barplot(x=\"행정구역별\", y= 2022, data=nursing_institution_result_sudogwun, palette=\"Set3\",ax=ax[1])\n",
    "\n",
    "ax[0].set_title('행정구역별 노인여가복지시설수')\n",
    "ax[0].set_ylabel('2022년 기준')\n",
    "ax[1].set_title('행정구역별 요양기관수')\n",
    "ax[1].set_ylabel('2022년 기준')\n",
    "ax[0].tick_params(axis='x', rotation=90)\n",
    "ax[1].tick_params(axis='x', rotation=90)\n",
    "\n",
    "plt.grid()\n",
    "plt.show()\n"
   ]
  },
  {
   "cell_type": "code",
   "execution_count": null,
   "metadata": {},
   "outputs": [],
   "source": [
    "#%%\n",
    "fig, ax=plt.subplots(1,2,figsize=(12,8))\n",
    "leisure_facilities_sudogwun.transpose().plot(figsize=(12,8), grid=True,ax=ax[0])\n",
    "nursing_institution_result_sudogwun.transpose().plot(figsize=(12,8), grid=True,ax=ax[1])\n",
    "\n",
    "ax[0].set_title('행정구역별 노인여가복지시설수')\n",
    "ax[0].set_ylabel('')\n",
    "ax[1].set_title('행정구역별 요양기관수')\n",
    "ax[1].set_ylabel('')\n",
    "\n",
    "plt.show()"
   ]
  },
  {
   "cell_type": "code",
   "execution_count": null,
   "metadata": {},
   "outputs": [],
   "source": [
    "# %%"
   ]
  },
  {
   "cell_type": "code",
   "execution_count": null,
   "metadata": {},
   "outputs": [],
   "source": [
    "# %%지역별 청년고용률\n",
    "young_people = pd.read_excel(\"../Data/청년고용률_시도.xlsx\",thousands=',')\n",
    "\n",
    "young_people.set_index('행정구역별', inplace=True)\n",
    "\n",
    "young_people_sudogwun = young_people.loc[[\"서울특별시\", \"경기도\",\"인천광역시\"],'2021':'2022']\n",
    "\n",
    "young_people_sudogwun"
   ]
  },
  {
   "cell_type": "code",
   "execution_count": null,
   "metadata": {},
   "outputs": [],
   "source": [
    "# %%"
   ]
  },
  {
   "cell_type": "code",
   "execution_count": null,
   "metadata": {},
   "outputs": [],
   "source": [
    "# %%\n",
    "plt.figure(figsize=(12,8))\n",
    "sns.barplot(x=\"행정구역별\", y= \"2022\", data=young_people_sudogwun, palette=\"Set3\").set_title(\"행정구역별 청년고용률\")\n",
    "plt.xticks(rotation=90)\n",
    "plt.xlabel(\"행정구역\")\n",
    "plt.ylabel(\"2022년 기준\")\n",
    "plt.grid()\n",
    "plt.show()"
   ]
  },
  {
   "cell_type": "code",
   "execution_count": null,
   "metadata": {},
   "outputs": [],
   "source": [
    "# %%\n",
    "founded_company = pd.read_excel(\"../Data/창업기업수_시도.xlsx\",thousands=',')\n",
    "founded_company.set_index('행정구역별', inplace=True)\n",
    "founded_company_sudogwun = founded_company.loc[[\"서울특별시\", \"경기도\",\"인천광역시\"]]\n",
    "\n",
    "wage = pd.read_excel(\"../Data/월평균_임금_및_임금상승률_시도.xlsx\",thousands=',')\n",
    "wage.set_index('행정구역별', inplace=True)\n",
    "wage_sudogwun  =wage.loc[[\"서울특별시\", \"경기도\",\"인천광역시\"]]"
   ]
  },
  {
   "cell_type": "code",
   "execution_count": null,
   "metadata": {},
   "outputs": [],
   "source": [
    "#%%\n",
    "fig, ax=plt.subplots(1,2,figsize=(12,8))\n",
    "sns.barplot(x=\"행정구역별\", y= \"2022\", data=wage_sudogwun, palette=\"Set3\",ax=ax[0])\n",
    "sns.barplot(x=\"행정구역별\", y= \"2022\", data=founded_company_sudogwun, palette=\"Set3\",ax=ax[1])\n",
    "\n",
    "ax[0].set_title('행정구역별 월평균 임금')\n",
    "ax[0].set_ylabel('2022년 기준')\n",
    "ax[1].set_title('행정구역별 창업 기업수')\n",
    "ax[1].set_ylabel('2022년 기준')\n",
    "ax[0].tick_params(axis='x', rotation=90)\n",
    "ax[1].tick_params(axis='x', rotation=90)\n",
    "\n",
    "plt.show()"
   ]
  },
  {
   "cell_type": "code",
   "execution_count": null,
   "metadata": {},
   "outputs": [],
   "source": [
    "# %%\n",
    "fig, ax=plt.subplots(1,2,figsize=(12,8))\n",
    "wage_sudogwun.transpose().plot(figsize=(12,8), grid=True,ax=ax[0])\n",
    "founded_company_sudogwun.transpose().plot(figsize=(12,8), grid=True,ax=ax[1])\n",
    "\n",
    "ax[0].set_title('행정구역별 월평균 임금')\n",
    "ax[0].set_ylabel('')\n",
    "ax[1].set_title('행정구역별 창업 기업수')\n",
    "ax[1].set_ylabel('')\n",
    "ax[0].tick_params(axis='x', rotation=90)\n",
    "ax[1].tick_params(axis='x', rotation=90)\n",
    "plt.show()"
   ]
  },
  {
   "cell_type": "code",
   "execution_count": null,
   "metadata": {},
   "outputs": [],
   "source": [
    "# %%지역별 유아천명당 보육시설수\n",
    "kid = pd.read_excel(\"../Data/유아_천명당_보육시설수.xlsx\",thousands=',')\n",
    "\n",
    "kid.set_index('행정구역별', inplace=True)\n",
    "\n",
    "kid_sudogwun = kid.loc[[\"서울특별시\", \"경기도\",\"인천광역시\"],'2021':'2022']\n",
    "\n",
    "kid_sudogwun\n",
    "\n"
   ]
  },
  {
   "cell_type": "code",
   "execution_count": null,
   "metadata": {},
   "outputs": [],
   "source": [
    "# %%\n",
    "plt.figure(figsize=(12,8))\n",
    "sns.barplot(x=\"행정구역별\", y= \"2022\", data=kid_sudogwun, palette=\"Set3\").set_title(\"행정구역별 유아천명당 보육시설수\")\n",
    "plt.xticks(rotation=90)\n",
    "plt.xlabel(\"행정구역\")\n",
    "plt.ylabel(\"2022년 기준\")\n",
    "plt.grid()\n",
    "plt.show()"
   ]
  },
  {
   "cell_type": "code",
   "execution_count": null,
   "metadata": {},
   "outputs": [],
   "source": [
    "# %%\n",
    "kid_baccine = pd.read_excel(\"../Data/인플루엔자_예방접종률_시도.xlsx\",thousands=',')\n",
    "kid_baccine.set_index('행정구역별', inplace=True)\n",
    "kid_baccine_sudogwun =kid_baccine.loc[[\"서울특별시\", \"경기도\",\"인천광역시\"]]\n",
    "\n",
    "kid_safe_accident = pd.read_excel(\"../Data/아동_십만명당_안전사고사망률_시도.xlsx\",thousands=',')\n",
    "kid_safe_accident.set_index('행정구역별', inplace=True)\n",
    "kid_safe_accident_sudogwun = kid_safe_accident.loc[[\"서울특별시\", \"경기도\",\"인천광역시\"]]\n",
    "\n",
    "fig, ax=plt.subplots(1,2,figsize=(12,8))\n",
    "sns.barplot(x=\"행정구역별\", y= \"2022\", data=kid_baccine_sudogwun, palette=\"Set3\",ax=ax[0])\n",
    "sns.barplot(x=\"행정구역별\", y= \"2022\", data=kid_safe_accident_sudogwun, palette=\"Set3\",ax=ax[1])\n",
    "\n",
    "ax[0].set_title('행정구역별 인플루엔자 접종률')\n",
    "ax[0].set_ylabel('2022년 기준')\n",
    "ax[1].set_title('행정구역별 아동 10만명당 안전사고 사망률')\n",
    "ax[1].set_ylabel('2022년 기준')\n",
    "ax[0].tick_params(axis='x', rotation=90)\n",
    "ax[1].tick_params(axis='x', rotation=90)\n",
    "\n",
    "plt.show()"
   ]
  },
  {
   "cell_type": "code",
   "execution_count": null,
   "metadata": {},
   "outputs": [],
   "source": [
    "# %%\n",
    "fig, ax=plt.subplots(1,2,figsize=(12,8))\n",
    "kid_baccine_sudogwun.transpose().plot(figsize=(12,8), grid=True,ax=ax[0])\n",
    "kid_safe_accident_sudogwun.transpose().plot(figsize=(12,8), grid=True,ax=ax[1])\n",
    "\n",
    "ax[0].set_title('행정구역별 인플루엔자 접종률')\n",
    "ax[0].set_ylabel('')\n",
    "ax[1].set_title('행정구역별 아동 10만명당 안전사고 사망률')\n",
    "ax[1].set_ylabel('')\n",
    "ax[0].tick_params(axis='x', rotation=90)\n",
    "ax[1].tick_params(axis='x', rotation=90)\n",
    "plt.show()"
   ]
  },
  {
   "cell_type": "code",
   "execution_count": null,
   "metadata": {},
   "outputs": [],
   "source": [
    "# %%\n",
    "df = pd.concat([older_people.loc[:,'2022'], \n",
    "                leisure_facilities.loc[:,'2022'],\n",
    "                nursing_institution_result.loc[:,2022],\n",
    "                young_people.loc[:,'2022'],\n",
    "                founded_company.loc[:,'2022'],\n",
    "                wage.loc[:,'2022'],\n",
    "                kid.loc[:,'2022'],\n",
    "                kid_baccine.loc[:,'2022'],\n",
    "                kid_safe_accident.loc[:,'2022']\n",
    "                ], axis=1)\n",
    "df"
   ]
  },
  {
   "cell_type": "code",
   "execution_count": null,
   "metadata": {},
   "outputs": [],
   "source": [
    "# %%\n",
    "df.columns= [\"독거노인 비율\",\n",
    "             \"노인여가복지시설수\",\n",
    "             \"요양기관수\",\n",
    "             \"청년고용률\",\n",
    "             \"창업기업수\",\n",
    "             \"임금\",\n",
    "             \"아동10만명당보육시설수\",\n",
    "             \"인플루엔자예방접종률\",\n",
    "             \"아동10만명당안전사고사망률\"]\n",
    "df"
   ]
  },
  {
   "cell_type": "code",
   "execution_count": null,
   "metadata": {},
   "outputs": [],
   "source": [
    "# %%\n",
    "plt.figure(figsize=(15,15))\n",
    "sns.heatmap(data = df.corr(), annot=True, \n",
    "fmt = '.2f', linewidths=.5, cmap='Blues')\n"
   ]
  },
  {
   "cell_type": "code",
   "execution_count": null,
   "metadata": {},
   "outputs": [],
   "source": [
    "# %%\n"
   ]
  },
  {
   "cell_type": "code",
   "execution_count": null,
   "metadata": {},
   "outputs": [],
   "source": [
    "# %%\n",
    "X = np.random.rand(100, 1) * 10 \n",
    "X"
   ]
  },
  {
   "cell_type": "code",
   "execution_count": null,
   "metadata": {},
   "outputs": [],
   "source": [
    "# %%\n",
    "df = pd.DataFrame()\n",
    "lst=[]\n",
    "lst2=[]\n",
    "lst3=[]\n",
    "\n",
    "for i, value in nursing_institution_result_sudogwun.iterrows():\n",
    "    \n",
    "    for a in value:\n",
    "        lst.append(i)\n",
    "        lst3.append(a)\n",
    "df[\"city\"] =lst\n",
    "\n",
    "for i in range(2012,2023):\n",
    "    lst2.append(i)\n",
    "for i in range(2012,2023):\n",
    "    lst2.append(i)\n",
    "df[\"year\"] =lst2\n",
    "df[\"welfare\"] = lst3\n",
    "df"
   ]
  },
  {
   "cell_type": "code",
   "execution_count": null,
   "metadata": {},
   "outputs": [],
   "source": [
    "# %%\n",
    "\n",
    "try:\n",
    "    conn = mysql.connector.connect(\n",
    "        host = \"database-1.cneecum0ieie.ap-northeast-2.rds.amazonaws.com\",\n",
    "        port = 3306,\n",
    "        user = \"eda\",\n",
    "        password = \"eda\",\n",
    "        database = \"eda\"\n",
    "    )\n",
    "    cursor = conn.cursor()\n",
    "\n",
    "    sql=\"\"\"create table welfare(\n",
    "              city varchar(32),\n",
    "              year int,\n",
    "              창업기업수 float\n",
    "              );\"\"\"\n",
    "    cursor.execute(sql)\n",
    "    conn.commit()\n",
    "    sql=\"\"\"insert into welfare Values (%s,%s,%s);\"\"\"\n",
    "   \n",
    "    \n",
    "    for i, value in df.iterrows():\n",
    "        cursor.execute(sql, tuple(value))\n",
    "        print(value.name)\n",
    "    conn.commit()\n",
    "    \n",
    "    cursor.execute(\"select * from welfare\")\n",
    "\n",
    "    for i in conn.fetchall():\n",
    "        print(i)\n",
    "    \n",
    "    conn.close()\n",
    "except Exception as e:\n",
    "    print(e)\n",
    "    conn.close()\n",
    "\n",
    " "
   ]
  },
  {
   "cell_type": "code",
   "execution_count": null,
   "metadata": {},
   "outputs": [],
   "source": [
    "# %%\n",
    "try:\n",
    "    conn = mysql.connector.connect(\n",
    "        host = \"database-1.cneecum0ieie.ap-northeast-2.rds.amazonaws.com\",\n",
    "        port = 3306,\n",
    "        user = \"eda\",\n",
    "        password = \"eda\",\n",
    "        database = \"eda\"\n",
    "    )\n",
    "    cursor = conn.cursor()\n",
    "\n",
    "    cursor = conn.cursor(buffered=True)\n",
    "    cursor.execute(\"select city, year, pop_sum from population where year = 2024 group by city, year;\")\n",
    "\n",
    "    population_result = cursor.fetchall()\n",
    "\n",
    "    df = pd.DataFrame(population_result)\n",
    "   \n",
    "    conn.close()\n",
    "    \n",
    "except  Exception as e:\n",
    "    print(e)\n",
    "    conn.close()"
   ]
  },
  {
   "cell_type": "code",
   "execution_count": null,
   "metadata": {},
   "outputs": [],
   "source": [
    "# %%\n",
    "df.head()\n",
    "df.drop(0, axis=0, inplace=True)\n",
    "df"
   ]
  },
  {
   "cell_type": "code",
   "execution_count": null,
   "metadata": {},
   "outputs": [],
   "source": [
    "# %%\n",
    "df.columns = [\"행정구역별\", \"년도\", \"인구수\"]\n",
    "df"
   ]
  },
  {
   "cell_type": "code",
   "execution_count": null,
   "metadata": {},
   "outputs": [],
   "source": [
    "# %%\n",
    "import json\n",
    "state_geo = '../Data/TL_SCCO_CTPRVN.json'\n",
    "state_geo\n",
    "\n",
    "# 시도기준 경계 JSON 파일을 들고 온다.\n",
    "with open(state_geo, encoding='utf-8') as file:\n",
    "    sido_map = json.load(file)\n",
    "\n",
    "sido_map['features'][5]['properties']  "
   ]
  },
  {
   "cell_type": "code",
   "execution_count": null,
   "metadata": {},
   "outputs": [],
   "source": [
    "#%%\n",
    "m = folium.Map(location=[35.8, 128.071503], zoom_start=7,)\n",
    "\n",
    "ch = folium.Choropleth(\n",
    "    # geo json 파일로 sido_map 을 사용\n",
    "    geo_data=sido_map,\n",
    "    # choropleth 옵션을 쓸 것임\n",
    "    name='choropleth',\n",
    "    # data로는 population.csv 파일을 사용 (df로 불러옴)\n",
    "    data=df,\n",
    "    # csv 파일에서 사용할 컬럼 값\n",
    "    columns=['행정구역별', '인구수'], \n",
    "    # 시도명 - CTP_KOR_NM 매핑\n",
    "    key_on='feature.properties.CTP_KOR_NM',  \n",
    "    # geo json 색깔 설정\n",
    "    fill_color='YlGn',\n",
    "    # 지도 투명하게  \n",
    "    fill_opacity=0.7,\n",
    "    # 경계선 투명하게\n",
    "    line_opacity=1,  \n",
    "    # 경계선 굵기\n",
    "    line_weight=1.5,\n",
    "    # 경계선 색\n",
    "    line_color='#000',\n",
    "    # 범례 이름\n",
    "    legend_name='시도별 인구 수 (명)',  \n",
    "    #  highlight=True, # 하이라이트 설정\n",
    ").add_to(m)\n",
    "\n",
    "m"
   ]
  },
  {
   "cell_type": "code",
   "execution_count": null,
   "metadata": {},
   "outputs": [],
   "source": [
    "# %%\n",
    "sido = df.copy()\n",
    "sido.set_index(\"행정구역별\", inplace=True)\n",
    "sido\n"
   ]
  },
  {
   "cell_type": "code",
   "execution_count": null,
   "metadata": {},
   "outputs": [],
   "source": [
    "#%%\n",
    "\n",
    "locs = {\n",
    "    '경기도': (37.95, 126.95),\n",
    "    '서울특별시': (37.58, 126.7),\n",
    "    '부산광역시':(35.198362, 129.053922),\n",
    "    '경상북도':  (36.63, 128.46),\n",
    "    '경상남도': (35.5, 128),\n",
    "    '인천광역시':  (37.5, 125.8),\n",
    "    '대구광역시': (35.96, 128.32),\n",
    "    '충청남도': (36.69, 126),\n",
    "    '전라남도':  (34.819400, 126.893113),\n",
    "    '전라북도':  (35.86, 126.85),\n",
    "    '대전광역시':   (36.321655, 127.378953),\n",
    "    '강원도': (37.88, 128),\n",
    "    '광주광역시': (35.28, 126.49),\n",
    "    '울산광역시': (35.8, 129.5),\n",
    "    '충청북도': (37.19, 127.50),\n",
    "    '세종특별자치시':    (36.7, 127.07),\n",
    "    '제주특별자치도':   (33.62, 126.11)\n",
    "}"
   ]
  },
  {
   "cell_type": "code",
   "execution_count": null,
   "metadata": {},
   "outputs": [],
   "source": [
    "# %%\n",
    "\n",
    "for key, value in locs.items():\n",
    "    인구수 = '{:,}'.format(int(sido.loc[key, '인구수']))\n",
    "    folium.map.Marker(\n",
    "        # 위경도 위치\n",
    "        [value[0], value[1]],  \n",
    "\n",
    "        # DivIcon 을 사용\n",
    "        # html 태그를 이용해서 text를 올릴 수 있음\n",
    "        icon=DivIcon(\n",
    "            # icon px 사이즈\n",
    "            icon_size=(0, 0),\n",
    "            # icon 좌 상단 위치 설정\n",
    "            icon_anchor=(0, 0),\n",
    "\n",
    "            # html 형식으로 text 추가\n",
    "            # div 태그 안에 style 형식 추가\n",
    "            html='<div\\\n",
    "                    style=\"\\\n",
    "                        font-size: 1.3rem;\\\n",
    "                        color: red;\\\n",
    "                        background-color:rgba(255, 255, 255, 0.2);\\\n",
    "                        width:85px;\\\n",
    "                        text-align:center;\\\n",
    "                        margin:0px;\\\n",
    "                    \"><b>'\n",
    "            #+ key + ': ' + str(sido.loc[key, '인구수'])\n",
    "            + key + ': ' + 인구수\n",
    "            #+ \"<br/><span style='color:red; margin: 0px;'>여성: \"\n",
    "            #+ str(df.loc[(key, '여자'), '인구수']) + '</span>'\n",
    "            #+ \"<br/><span style='color: blue; margin: 0px;'>남성: \"\n",
    "            #+ str(df.loc[(key, '남자'), '인구수']) + '</span>'\n",
    "            + '</b></div>'\n",
    "        )).add_to(m)\n",
    "m"
   ]
  },
  {
   "cell_type": "code",
   "execution_count": null,
   "metadata": {},
   "outputs": [],
   "source": [
    "# %%\n",
    "try:\n",
    "    conn = mysql.connector.connect(\n",
    "        host = \"database-1.cneecum0ieie.ap-northeast-2.rds.amazonaws.com\",\n",
    "        port = 3306,\n",
    "        user = \"eda\",\n",
    "        password = \"eda\",\n",
    "        database = \"eda\"\n",
    "    )\n",
    "    cursor = conn.cursor()\n",
    "\n",
    "    cursor = conn.cursor(buffered=True)\n",
    "   #cursor.execute(\"select city, year, pop_sum from population where city!='전국' and city!='세종특별자치시'group by city, year;\")\n",
    "    cursor.execute(\"select city, year, pop_sum from population where (city='서울특별시' or city='경기도') and year between 2012 and 2022 group by city, year\")\n",
    "    population_result = cursor.fetchall()\n",
    "\n",
    "    df_pop = pd.DataFrame(population_result)\n",
    "   \n",
    "    conn.close()\n",
    "    \n",
    "except  Exception as e:\n",
    "    print(e)\n",
    "    conn.close()"
   ]
  },
  {
   "cell_type": "code",
   "execution_count": null,
   "metadata": {},
   "outputs": [],
   "source": [
    "#%%\n",
    "df_pop\n",
    "df_pop.columns = [\"행정구역별\", \"년도\", \"인구수\"]\n",
    "\n",
    "#for i, value in df_pop[\"행정구역별\"].items():\n",
    "#    df_pop[i,\"stand\"] = df_pop.loc[i,\"인구수\"] - df_pop.loc[0,\"인구수\"]\n",
    "   # print(df_pop.loc[i,\"행정구역별\"])\n",
    "df_pop.set_index(\"년도\", inplace=True)\n",
    "#df_pop\n",
    "#df_1=df_pop.groupby(['행정구역별','년도']).mean()\n",
    "df_pop\n",
    "\n",
    "#for i,value in df_1.iterrows():\n",
    "#    print(df_1.loc[i,'인구수'])\n",
    "\n"
   ]
  },
  {
   "cell_type": "code",
   "execution_count": null,
   "metadata": {},
   "outputs": [],
   "source": [
    "#%%\n",
    "#lat_list = ['37.540705','35.198362','35.798838',\n",
    "#            '37.469221','35.126033','36.321655',\n",
    "#            '35.519301','37.567167','37.555837',\n",
    "#            '36.628503','36.557229','35.716705',\n",
    "#            '34.819400','36.248647','35.259787',\n",
    "#            '33.364805']\n",
    "#\n",
    "#long_list=['126.956764','129.053922','128.583052',\n",
    "#           '126.573234','126.831302','127.378953',\n",
    "#           '129.239078','127.190292','128.209315'\n",
    "#           ,'127.929344','126.779757','127.144185',\n",
    "#           '126.893113','128.664734','128.664734',\n",
    "#           '126.542671']\n",
    "lat_list = ['37.540705','37.567167']\n",
    "\n",
    "long_list=['126.956764','127.190292']\n",
    "\n",
    "#df_pop.columns = [\"행정구역별\", \"년도\", \"인구수\"]\n",
    "sejong =['36.5040736','127.249455']\n",
    "df_pop[\"lat\"] = lat_list*11\n",
    "df_pop[\"long\"] = long_list*11\n",
    "df_pop[\"lat\"] = df_pop[\"lat\"].astype(float)\n",
    "df_pop[\"long\"] = df_pop[\"long\"].astype(float)\n",
    "df_pop\n"
   ]
  },
  {
   "cell_type": "code",
   "execution_count": null,
   "metadata": {},
   "outputs": [],
   "source": [
    "#%%\n",
    "import pandas as pd\n",
    "import plotly.express as px\n",
    "import plotly.graph_objects as go\n",
    "\n",
    "fig = px.scatter_mapbox(df_pop, lat='lat', lon='long', size_max=200,\n",
    "                        color='행정구역별',\n",
    "                        size=df_pop[\"인구수\"],  #CCTV 건수를 점의 크기에 반영color_continuous_scale=px.colors.cyclical.IceFire,\n",
    "                        color_continuous_scale=px.colors.cyclical.IceFire,\n",
    "                        hover_name='행정구역별',\n",
    "                        animation_frame = df_pop.index, \n",
    "                        zoom=5, center = {'lat': 37.57, 'lon': 127.0},\n",
    "                        width=950, height=750,\n",
    "                        text =df_pop['행정구역별'].to_numpy()\n",
    "                        \n",
    "                        )\n",
    "\n",
    "fig.update_layout(\n",
    "   #mapbox_style='white-bg',\n",
    "   mapbox_style='open-street-map',\n",
    "    mapbox_layers=[\n",
    " {\n",
    " 'below': 'traces',\n",
    " 'sourcetype': 'geojson',\n",
    "\n",
    " #'sourceattribution': 'stamen',\n",
    " 'type': 'line',\n",
    " 'source': '../Data/TL_SCCO_CTPRVN.json'\n",
    " }\n",
    "  ])\n",
    "fig.update_layout(margin={'r':0,'t':0,'l':0,'b':0})\n",
    "\n",
    "fig.show()"
   ]
  },
  {
   "cell_type": "code",
   "execution_count": null,
   "metadata": {},
   "outputs": [],
   "source": [
    "#%%"
   ]
  },
  {
   "cell_type": "code",
   "execution_count": null,
   "metadata": {},
   "outputs": [],
   "source": [
    "# %%\n",
    "df_pop.info()"
   ]
  },
  {
   "cell_type": "code",
   "execution_count": null,
   "metadata": {},
   "outputs": [],
   "source": [
    "# %%\n",
    "df_pop.loc[[i],[\"인구수\"]]*100"
   ]
  },
  {
   "cell_type": "code",
   "execution_count": null,
   "metadata": {},
   "outputs": [],
   "source": [
    "# %%\n"
   ]
  }
 ],
 "metadata": {
  "language_info": {
   "codemirror_mode": {
    "name": "ipython",
    "version": 3
   },
   "file_extension": ".py",
   "mimetype": "text/x-python",
   "name": "python",
   "nbconvert_exporter": "python",
   "pygments_lexer": "ipython3",
   "version": 3
  }
 },
 "nbformat": 4,
 "nbformat_minor": 2
}
